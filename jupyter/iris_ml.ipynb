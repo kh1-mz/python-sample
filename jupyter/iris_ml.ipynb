{
 "cells": [
  {
   "cell_type": "markdown",
   "id": "40d50818-a4fa-4329-9b4f-77f4954af4db",
   "metadata": {},
   "source": [
    "# irisで機械学習\n",
    "\n",
    "アイリスデータセットを用いて、花の4種の特徴量から3種類のアヤメに分類する。\n",
    "\n",
    "## 1. データの準備\n",
    "\n",
    "まずは学習用データと評価用データを作る。"
   ]
  },
  {
   "cell_type": "code",
   "execution_count": null,
   "id": "b0a6654b-4e71-47a5-958d-b8721242a672",
   "metadata": {},
   "outputs": [],
   "source": [
    "import pandas as pd\n",
    "from sklearn.datasets import load_iris\n",
    "from sklearn.model_selection import train_test_split\n",
    "\n",
    "# データセットを読み込んでDataFrameにする\n",
    "iris = load_iris()\n",
    "df = pd.DataFrame(iris.data, columns=iris.feature_names)\n",
    "\n",
    "# データ分割\n",
    "X_train, X_test, y_train, y_test = train_test_split(df, iris.target)"
   ]
  },
  {
   "cell_type": "markdown",
   "id": "ab0bdf7e-fd02-48a7-9c17-0bbc3ef74d01",
   "metadata": {},
   "source": [
    "評価の実行と、評価結果（正答率）を表示する関数を用意しておく。\n",
    "\n",
    "参考用に学習データでも評価を行う。"
   ]
  },
  {
   "cell_type": "code",
   "execution_count": null,
   "id": "b752efff-2a9f-4214-a970-e16ae768f8da",
   "metadata": {},
   "outputs": [],
   "source": [
    "def print_eval(model):\n",
    "    # 学習データで評価し、正答率を表示\n",
    "    print('train:', model.score(X_train, y_train))\n",
    "    # 評価データで評価、正答率を表示\n",
    "    print('test :', model.score(X_test, y_test))"
   ]
  },
  {
   "cell_type": "markdown",
   "id": "357f0feb-95c9-4e4e-92eb-cca35d5b6b66",
   "metadata": {},
   "source": [
    "## 2. 教師あり学習\n",
    "\n",
    "scikit-learnのAPIを使用した機械学習は一般的に以下のような構成となる。\n",
    "\n",
    "0. 学習データと評価データを用意する（「1. データの準備」で示した）\n",
    "1. モデルを作る\n",
    "2. 学習を行う\n",
    "3. 結果を確認する\n",
    "\n",
    "### 2-1. 線形回帰\n",
    "\n",
    "線形回帰モデルで機械学習を行うプログラムを示す。\n",
    "\n",
    "モデルは[LinearRegression](https://scikit-learn.org/stable/modules/generated/sklearn.linear_model.LinearRegression.html)を使用する。ここではデフォルトで使用しているため、オプションの指定はない、"
   ]
  },
  {
   "cell_type": "code",
   "execution_count": null,
   "id": "82a338bf-c906-47e9-90d6-c60250342664",
   "metadata": {},
   "outputs": [],
   "source": [
    "from sklearn.linear_model import LinearRegression\n",
    "\n",
    "# モデルを作る\n",
    "clf = LinearRegression()\n",
    "\n",
    "# 学習を行う\n",
    "clf.fit(X_train, y_train)\n",
    "\n",
    "# 学習データと評価データで評価を行う\n",
    "print_eval(clf)"
   ]
  },
  {
   "cell_type": "markdown",
   "id": "b57f7ee2-83fb-4256-b4c0-9f12355ae677",
   "metadata": {},
   "source": [
    "その他、線形回帰固有の結果を出力する。"
   ]
  },
  {
   "cell_type": "code",
   "execution_count": null,
   "id": "ab6b29c5-6792-4d7f-80d8-5008effc7067",
   "metadata": {},
   "outputs": [],
   "source": [
    "print('回帰係数:', clf.coef_)\n",
    "print('切片   :', clf.intercept_)\n",
    "print('決定係数:', clf.score(X_train, y_train))"
   ]
  },
  {
   "cell_type": "markdown",
   "id": "1445491c-aca3-4557-87c8-ee513750ea06",
   "metadata": {},
   "source": [
    "注1）再度機械学習を実行する場合は、JupyterLabのカーネルをリセットする必要がある。<br>\n",
    "注2）機械学習のモデルは、学習を行うたびに異なる評価結果になることがある。"
   ]
  },
  {
   "cell_type": "markdown",
   "id": "3211939d-0631-4b0b-83f9-4b61744d4f3c",
   "metadata": {},
   "source": [
    "### 2-2. ロジスティック回帰\n",
    "\n",
    "モデルは[LogisticRegression](https://scikit-learn.org/stable/modules/generated/sklearn.linear_model.LogisticRegression.html)を使用する。オプションの`solve='lbfgs'`はL-BFGS法の使用を指定している。"
   ]
  },
  {
   "cell_type": "code",
   "execution_count": null,
   "id": "572f39b6-ea54-4b42-a51b-ed07e03a3258",
   "metadata": {},
   "outputs": [],
   "source": [
    "# ロジスティック回帰モデル：solver引数には最適化手法を指定\n",
    "from sklearn.linear_model import LogisticRegression\n",
    "clf = LogisticRegression(solver='lbfgs')\n",
    "clf.fit(X_train, y_train)\n",
    "\n",
    "print_eval(clf)"
   ]
  },
  {
   "cell_type": "markdown",
   "id": "11e21bc9-2783-4017-8283-453eaab646f3",
   "metadata": {},
   "source": [
    "### 2-3. サポートベクターマシン\n",
    "\n",
    "サポートベクターマシンは[SVC](https://scikit-learn.org/stable/modules/generated/sklearn.svm.SVC.html#sklearn.svm.SVC)を使用する。ここではデフォルトで使用しているため、オプションの指定はない、\n",
    "\n",
    "SVCの評価結果の取り出しは線形回帰等と異なるため、新たに`print_eval2()`を定義する。"
   ]
  },
  {
   "cell_type": "code",
   "execution_count": null,
   "id": "e9086761-4c23-434b-8c09-68d4e8f5aff3",
   "metadata": {},
   "outputs": [],
   "source": [
    "from sklearn import metrics\n",
    "\n",
    "def print_eval2(model):\n",
    "    # 学習データで評価し、結果を表示\n",
    "    pre_train = clf.predict(X_train)\n",
    "    print('train:', metrics.accuracy_score(y_train, pre_train))\n",
    "    # 評価データで評価、結果を表示\n",
    "    pre_test = clf.predict(X_test)\n",
    "    print('test: ', metrics.accuracy_score(y_test, pre_test))"
   ]
  },
  {
   "cell_type": "code",
   "execution_count": null,
   "id": "73ce7fd4-cf91-4fea-9114-53e0c30a2865",
   "metadata": {},
   "outputs": [],
   "source": [
    "from sklearn import svm\n",
    "\n",
    "# モデル作成\n",
    "clf = svm.SVC(kernel='linear')  # 線形で指定\n",
    "\n",
    "# 学習の実行\n",
    "clf.fit(X_train, y_train)\n",
    "\n",
    "# 評価の実行と結果表示\n",
    "print_eval2(clf)"
   ]
  },
  {
   "cell_type": "markdown",
   "id": "ce4867b0-4e62-4e7e-a0d9-3c11224252a1",
   "metadata": {},
   "source": [
    "### 2-4. 決定木（デシジョンツリー）\n",
    "\n",
    "モデルは[DecisionTreeClassifier](https://scikit-learn.org/stable/modules/generated/sklearn.tree.DecisionTreeClassifier.html)を使用する。"
   ]
  },
  {
   "cell_type": "code",
   "execution_count": null,
   "id": "258cd3e4-6b87-4272-84b2-477f2f49534a",
   "metadata": {},
   "outputs": [],
   "source": [
    "from sklearn import tree\n",
    "\n",
    "# モデル作成（最大深さ3）\n",
    "clf = tree.DecisionTreeClassifier(max_depth=3) # 決定木モデル（最大深さ3）\n",
    "\n",
    "# 学習の実行\n",
    "clf = clf.fit(X_train, y_train)\n",
    "\n",
    "# 評価の実行と結果表示\n",
    "print_eval2(clf)"
   ]
  },
  {
   "cell_type": "markdown",
   "id": "7853312e-40ec-482c-834b-9d82a8de6314",
   "metadata": {},
   "source": [
    "学習時に生成された決定木を表示する。"
   ]
  },
  {
   "cell_type": "code",
   "execution_count": null,
   "id": "1e3067fe-07ac-4eb3-adb3-f5efb1644751",
   "metadata": {},
   "outputs": [],
   "source": [
    "import matplotlib.pyplot as plt\n",
    "from sklearn.tree import plot_tree\n",
    "\n",
    "plt.figure(figsize=(15, 10))\n",
    "plot_tree(clf, feature_names=iris.feature_names, filled=True)\n",
    "plt.show()"
   ]
  },
  {
   "cell_type": "markdown",
   "id": "8f2052c2-3892-4acc-9719-3f82cc213d5a",
   "metadata": {},
   "source": [
    "### 2-5. ランダムフォレスト\n",
    "\n",
    "モデルは[RandomForestClassifier](https://scikit-learn.org/stable/modules/generated/sklearn.ensemble.RandomForestClassifier.html)を使用する。"
   ]
  },
  {
   "cell_type": "code",
   "execution_count": null,
   "id": "1790f9c3-0168-434a-b83f-fe587bef1cae",
   "metadata": {},
   "outputs": [],
   "source": [
    "from sklearn.ensemble import RandomForestClassifier\n",
    "\n",
    "# モデル作成\n",
    "clf = RandomForestClassifier(random_state=0, n_estimators=10)\n",
    "\n",
    "# 学習の実行\n",
    "clf = clf.fit(X_train, y_train)\n",
    "\n",
    "# 評価の実行と結果表示\n",
    "print_eval2(clf)"
   ]
  },
  {
   "cell_type": "markdown",
   "id": "0c58ceb5-c783-472a-954f-82a24e520583",
   "metadata": {},
   "source": [
    "### 2-6. ニューラルネットワーク\n",
    "\n",
    "準伝播型ニューラルネットワークの一種である、多層パーセプトロン(Multilayer perceptron, MLP)を使用したプログラムを示す。\n",
    "\n",
    "モデルは[MLPClassifier](https://scikit-learn.org/stable/modules/generated/sklearn.neural_network.MLPClassifier.html)を使用する。"
   ]
  },
  {
   "cell_type": "code",
   "execution_count": null,
   "id": "113f99fa-b367-418f-a302-01767b05cb79",
   "metadata": {},
   "outputs": [],
   "source": [
    "from sklearn.neural_network import MLPClassifier\n",
    "\n",
    "# モデル作成\n",
    "clf = MLPClassifier(max_iter=1000)  # 最大繰り返し回数を1000回\n",
    "\n",
    "# 学習の実行\n",
    "clf.fit(X_train, y_train)\n",
    "\n",
    "# 評価の実行と結果表示\n",
    "print_eval2(clf)"
   ]
  },
  {
   "cell_type": "markdown",
   "id": "21c74714-7dc5-4823-9dde-97c8a371d721",
   "metadata": {},
   "source": [
    "損失カーブをグラフ化する。\n",
    "\n",
    "損失カーブとは、教師データと予測データの差を、繰り返し回数ごとに示したもの。"
   ]
  },
  {
   "cell_type": "code",
   "execution_count": null,
   "id": "f9169048-1f6c-4f4d-82b1-4f62b5ad29a2",
   "metadata": {},
   "outputs": [],
   "source": [
    "import matplotlib.pyplot as plt\n",
    "import japanize_matplotlib\n",
    "\n",
    "plt.title('損失カーブ')\n",
    "plt.plot(clf.loss_curve_)\n",
    "plt.xlabel(\"繰り返し回数\")\n",
    "plt.ylabel(\"損失\")\n",
    "plt.grid()\n",
    "plt.show()"
   ]
  },
  {
   "cell_type": "markdown",
   "id": "9c821c85-bddf-4d67-977a-2eb9f2adab18",
   "metadata": {},
   "source": [
    "### 2-7. ナイーブベイズ（単純ベイズ）\n",
    "\n",
    "ナイーブベイズは３種類あり、それぞれを以下に示す。\n",
    "\n",
    "#### 2-7-1. ガウスモデル (Gaussian naive Bayes)\n",
    "\n",
    "モデルは[GaussianNB](https://scikit-learn.org/stable/modules/generated/sklearn.naive_bayes.GaussianNB.html)を使用する。"
   ]
  },
  {
   "cell_type": "code",
   "execution_count": null,
   "id": "3f5259db-6eb9-4c96-987b-a8796aab97f0",
   "metadata": {},
   "outputs": [],
   "source": [
    "from sklearn.naive_bayes import GaussianNB\n",
    "\n",
    "# モデル作成\n",
    "clf = GaussianNB()\n",
    "\n",
    "# 学習の実行\n",
    "clf.fit(X_train, y_train)\n",
    "\n",
    "# 評価の実行と結果表示\n",
    "print_eval2(clf)"
   ]
  },
  {
   "cell_type": "markdown",
   "id": "9523a609-736a-4e3b-b329-5706a4236a5f",
   "metadata": {},
   "source": [
    "#### 2-7-2. 多項分布モデル (Multinomial naive Bayes)\n",
    "\n",
    "モデルは[MultinomialNB](https://scikit-learn.org/stable/modules/generated/sklearn.naive_bayes.MultinomialNB.html)を使用する。"
   ]
  },
  {
   "cell_type": "code",
   "execution_count": null,
   "id": "1b5d6a2e-8208-4d06-8020-b606462faeb1",
   "metadata": {},
   "outputs": [],
   "source": [
    "from sklearn.naive_bayes import MultinomialNB\n",
    "\n",
    "# モデル作成\n",
    "clf = MultinomialNB()\n",
    "\n",
    "# 学習の実行\n",
    "clf.fit(X_train, y_train)\n",
    "\n",
    "# 評価の実行と結果表示\n",
    "print_eval2(clf)"
   ]
  },
  {
   "cell_type": "markdown",
   "id": "354c34c4-c4cb-4c2d-839b-7da9b1a82c5f",
   "metadata": {},
   "source": [
    "#### 2-7-3. ベルヌーイ分布モデル (Bernoulli naive Bayes)\n",
    "\n",
    "モデルは[BernoulliNB](https://scikit-learn.org/stable/modules/generated/sklearn.naive_bayes.BernoulliNB.html)を使用する。"
   ]
  },
  {
   "cell_type": "code",
   "execution_count": null,
   "id": "6fd753fc-f74e-4b38-a413-60521c14561a",
   "metadata": {},
   "outputs": [],
   "source": [
    "from sklearn.naive_bayes import BernoulliNB\n",
    "\n",
    "# モデル作成\n",
    "clf = BernoulliNB()\n",
    "\n",
    "# 学習の実行\n",
    "clf.fit(X_train, y_train)\n",
    "\n",
    "# 評価の実行と結果表示\n",
    "print_eval2(clf)"
   ]
  },
  {
   "cell_type": "markdown",
   "id": "0f9537ab-8d2e-4b3a-a50a-f5f9cb5def89",
   "metadata": {},
   "source": [
    "### 2-8. k近傍法\n",
    "\n",
    "モデルは[KNeighborsClassifier](https://scikit-learn.org/stable/modules/generated/sklearn.neighbors.KNeighborsClassifier.html)を使用する。"
   ]
  },
  {
   "cell_type": "code",
   "execution_count": null,
   "id": "de7a5ed5-f43f-4880-b68d-85b1ae187ccb",
   "metadata": {},
   "outputs": [],
   "source": [
    "from sklearn.neighbors import KNeighborsClassifier\n",
    "\n",
    "# モデル作成\n",
    "clf = KNeighborsClassifier()\n",
    "\n",
    "# 学習の実行\n",
    "clf.fit(X_train, y_train)\n",
    "\n",
    "# 評価の実行と結果表示\n",
    "print_eval2(clf)"
   ]
  },
  {
   "cell_type": "markdown",
   "id": "87b6b060-69aa-4186-b58b-63fb8673bcdd",
   "metadata": {},
   "source": [
    "## 3. 教師なし学習\n",
    "\n",
    "### 3-1. k平均法\n",
    "\n",
    "クラスタリングを行う手法。\n",
    "\n",
    "モデルは[KMeans](https://scikit-learn.org/stable/modules/generated/sklearn.cluster.KMeans.html)を使用する。"
   ]
  },
  {
   "cell_type": "code",
   "execution_count": null,
   "id": "369a86da-c091-4706-8386-5bff1431b047",
   "metadata": {},
   "outputs": [],
   "source": [
    "from sklearn.cluster import KMeans\n",
    "\n",
    "# モデルを作成\n",
    "clf = KMeans(n_clusters=3)  # ３つのクラスタに分類する\n",
    "\n",
    "# 学習\n",
    "clf.fit(X_train)\n",
    "\n",
    "# クラスタを予測\n",
    "y_km = clf.predict(X_test)\n",
    "y_km"
   ]
  },
  {
   "cell_type": "markdown",
   "id": "182d3958-427b-427f-a19c-e21d74943f40",
   "metadata": {},
   "source": [
    "クラスタの予測と評価データを接続し、seabornで分布を見て確認する。"
   ]
  },
  {
   "cell_type": "code",
   "execution_count": null,
   "id": "bd0d0be0-d81b-4af7-a0d4-a22c192006a6",
   "metadata": {},
   "outputs": [],
   "source": [
    "import seaborn as sns\n",
    "\n",
    "def plot_result(y_km):\n",
    "    df = X_test.copy()\n",
    "    df['cluster'] = y_km\n",
    "    sns.pairplot(df, hue='cluster', palette={0:'red', 1:'green', 2:'blue'})\n",
    "\n",
    "plot_result(y_km)"
   ]
  },
  {
   "cell_type": "markdown",
   "id": "0380523a-c41a-435b-a6fe-8424964c176f",
   "metadata": {},
   "source": [
    "ちなみに正解は以下の通り。"
   ]
  },
  {
   "cell_type": "code",
   "execution_count": null,
   "id": "04a8da2b-a6c7-4ce7-b76f-8814be8c046b",
   "metadata": {},
   "outputs": [],
   "source": [
    "df_tmp = X_test.copy()\n",
    "df_tmp['cluster'] = y_test\n",
    "sns.pairplot(df_tmp, hue='cluster', palette={0:'red', 1:'green', 2:'blue'})\n",
    "plt.show()"
   ]
  },
  {
   "cell_type": "markdown",
   "id": "7a58ec1b-34fb-44fc-8f34-ceb9c8788fde",
   "metadata": {},
   "source": [
    "### 3-2. 主成分分析 (PCA)\n",
    "\n",
    "変換行列を生成して、次元削減を行う。\n",
    "\n",
    "モデルは[PCA](https://scikit-learn.org/stable/modules/generated/sklearn.decomposition.PCA.html)を使用する。\n",
    "\n",
    "対象データの傾向を見ることが目的なので、データを学習と評価に分けず、全体を使用する。"
   ]
  },
  {
   "cell_type": "code",
   "execution_count": null,
   "id": "790c2efe-cde3-44e4-ab58-2f71a384a169",
   "metadata": {},
   "outputs": [],
   "source": [
    "import numpy as np\n",
    "from sklearn.decomposition import PCA\n",
    "\n",
    "# モデル作成\n",
    "pca = PCA(n_components=2)\n",
    "pca.fit(df)\n",
    "\n",
    "# 変換行列を確認\n",
    "pca.components_.T"
   ]
  },
  {
   "cell_type": "code",
   "execution_count": null,
   "id": "b1c8c4a6-17bf-4b6e-9fdc-afce9d1f113d",
   "metadata": {},
   "outputs": [],
   "source": [
    "# 元のデータを２次元に変換\n",
    "X = pca.transform(df)\n",
    "\n",
    "# 散布図で表示\n",
    "plt.scatter(x=X[:, 0], y=X[:, 1], c=iris.target)\n",
    "plt.show()"
   ]
  },
  {
   "cell_type": "markdown",
   "id": "af372ec4-5aa9-43b8-b500-a452bb5ba4be",
   "metadata": {},
   "source": [
    "### 3-3. t-SNE\n",
    "\n",
    "次元削減を行う。\n",
    "\n",
    "モデルは[TSNE](https://scikit-learn.org/stable/modules/generated/sklearn.manifold.TSNE.html)を使用する。"
   ]
  },
  {
   "cell_type": "code",
   "execution_count": null,
   "id": "29eed55f-a2c1-4d6a-bab1-c1d5734e2668",
   "metadata": {},
   "outputs": [],
   "source": [
    "from sklearn.manifold import TSNE\n",
    "\n",
    "tsne = TSNE(n_components=2, random_state=42)\n",
    "iris_tsne = tsne.fit_transform(iris.data)\n",
    "\n",
    "# グラフ化\n",
    "plt.figure(figsize=(10, 10))\n",
    "sns.scatterplot(x=iris_tsne[:, 0],\n",
    "                y=iris_tsne[:, 1],\n",
    "                hue=iris.target, \n",
    "                palette=sns.color_palette(\"hsv\", 3))\n",
    "plt.show()"
   ]
  },
  {
   "cell_type": "code",
   "execution_count": null,
   "id": "481af58e-9095-4def-a528-4f68d2d44846",
   "metadata": {},
   "outputs": [],
   "source": []
  }
 ],
 "metadata": {
  "kernelspec": {
   "display_name": "Python 3 (ipykernel)",
   "language": "python",
   "name": "python3"
  },
  "language_info": {
   "codemirror_mode": {
    "name": "ipython",
    "version": 3
   },
   "file_extension": ".py",
   "mimetype": "text/x-python",
   "name": "python",
   "nbconvert_exporter": "python",
   "pygments_lexer": "ipython3",
   "version": "3.13.2"
  }
 },
 "nbformat": 4,
 "nbformat_minor": 5
}
