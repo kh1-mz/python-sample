{
 "cells": [
  {
   "cell_type": "markdown",
   "id": "25e131aa-5ac0-4aa1-9510-76ed4bcd7dcc",
   "metadata": {},
   "source": [
    "# Matplotlibサンプルプログラム\n",
    "\n",
    "## 1. 基本構成\n",
    "\n",
    "Matplotlibを使ったグラフ描画プログラムは、主に以下の処理に分けられる。\n",
    "\n",
    "1. グラフ化するデータの作成\n",
    "2. プロット（plot()など）\n",
    "3. 表示（show()）\n",
    "\n",
    "sin, cosカーブの例を以下に示す。"
   ]
  },
  {
   "cell_type": "code",
   "execution_count": null,
   "id": "98e2b1b0-a421-436e-8920-e0d71a5db427",
   "metadata": {
    "scrolled": true
   },
   "outputs": [],
   "source": [
    "import matplotlib.pyplot as plt\n",
    "import numpy as np\n",
    "\n",
    "# 0から2*PI未満を等間隔で要素数500のarrayを作る\n",
    "x = np.linspace(0, 2*np.pi, 500)\n",
    "\n",
    "plt.plot(x,np.sin(x))\n",
    "plt.plot(x,np.cos(x))\n",
    "\n",
    "plt.show()"
   ]
  },
  {
   "cell_type": "markdown",
   "id": "8db0a984-c022-4e02-862c-430219d645f9",
   "metadata": {},
   "source": [
    "## 2. 線グラフ\n",
    "\n",
    "plt.plot()で線グラフを作成する。"
   ]
  },
  {
   "cell_type": "code",
   "execution_count": null,
   "id": "86539d77-7111-4ada-a481-d99b14771268",
   "metadata": {
    "scrolled": true
   },
   "outputs": [],
   "source": [
    "d =[0, 1, 4, 9, 16]\n",
    "plt.plot(d)\n",
    "plt.show()"
   ]
  },
  {
   "cell_type": "markdown",
   "id": "9fc6c85c-a42b-472c-910a-fb141c7b4ef4",
   "metadata": {},
   "source": [
    "X値とY値をそれぞれリストで与えることができる。"
   ]
  },
  {
   "cell_type": "code",
   "execution_count": null,
   "id": "5b4d1350-3a99-405d-87df-d9aa414b42be",
   "metadata": {},
   "outputs": [],
   "source": [
    "x =[0, 1, 2, 3, 4]\n",
    "y =[0, 3, 6, 9, 12]\n",
    "\n",
    "plt.plot(x,y)\n",
    "plt.show()"
   ]
  },
  {
   "cell_type": "code",
   "execution_count": null,
   "id": "236225d5-0390-490a-8284-d0ac36d9e44e",
   "metadata": {},
   "outputs": [],
   "source": [
    "# NumPyのarrayでも良い\n",
    "array_x = np.array(x)\n",
    "array_y = np.array(y)\n",
    "plt.plot(array_x, array_y)\n",
    "plt.show()"
   ]
  },
  {
   "cell_type": "markdown",
   "id": "0c32b228-a8bd-4b6a-82d7-d51d4deb7482",
   "metadata": {},
   "source": [
    "複数のグラフを描く場合。"
   ]
  },
  {
   "cell_type": "code",
   "execution_count": null,
   "id": "06cc0c60-f31b-4f35-ad3f-128319153911",
   "metadata": {},
   "outputs": [],
   "source": [
    "# タプルでもOK\n",
    "x = (0, 1, 2, 3, 4)\n",
    "y1 = (0, 1, 2, 3, 4)\n",
    "y2 = (0, 1, 4, 9, 16)\n",
    "\n",
    "plt.plot(x, y1)\n",
    "plt.plot(x, y2)\n",
    "plt.show()"
   ]
  },
  {
   "cell_type": "markdown",
   "id": "a88c942c-3b5e-49c6-9df9-7863bc501f76",
   "metadata": {},
   "source": [
    "plt.plot()メソッドで、以下の設定を行う例を示す。\n",
    "* 線の形状（linestyle）\n",
    "* 線の色（color）\n",
    "* マーカーの形状（marker）\n",
    "* 凡例で示すグラフの名称（label）\n",
    "\n",
    "plt.plot()メソッドの引数については、以下のドキュメントを参照。\n",
    "https://matplotlib.org/stable/api/_as_gen/matplotlib.axes.Axes.plot.html#matplotlib.axes.Axes.plot"
   ]
  },
  {
   "cell_type": "code",
   "execution_count": null,
   "id": "44e73fe4-db5e-499c-9bc8-9b841ca02d88",
   "metadata": {},
   "outputs": [],
   "source": [
    "plt.plot(x, y1, linestyle='--', color='blue', marker='o', label='data-1')\n",
    "plt.plot(x, y2, linestyle=':', color='red', marker='*', label='data-2')\n",
    "plt.legend()\n",
    "plt.grid()  # グリッド表示\n",
    "plt.show()"
   ]
  },
  {
   "cell_type": "markdown",
   "id": "bdbb3a00-dc85-47b2-841f-3d2dd9d63cd5",
   "metadata": {},
   "source": [
    "## 3. 散布図\n",
    "\n",
    "plt.scatter()を使用する。plot()同様、X値とY値のリストを与えて描画する。\n",
    "\n",
    "以下のパラメータを指定した例を示す。\n",
    "\n",
    "* マーカーの大きさ（s）\n",
    "* マーカーの色（color）\n",
    "* マーカーの透明度（alpha）"
   ]
  },
  {
   "cell_type": "code",
   "execution_count": null,
   "id": "2d466d45-ffde-4674-9805-be485b818438",
   "metadata": {},
   "outputs": [],
   "source": [
    "x = np.random.rand(20)\n",
    "y = np.random.rand(20)\n",
    "plt.scatter(x, y, s=100, color='blue', alpha=0.5);\n",
    "plt.show()"
   ]
  },
  {
   "cell_type": "markdown",
   "id": "42ea5d53-8a59-42d6-8d75-e579acbe94bd",
   "metadata": {},
   "source": [
    "## 4. 棒グラフ\n",
    "\n",
    "plt.bar()を使用する。\n",
    "\n",
    "以下に例を示す。"
   ]
  },
  {
   "cell_type": "code",
   "execution_count": null,
   "id": "d393f961-a626-4261-a7e0-f5ad9695e4f9",
   "metadata": {},
   "outputs": [],
   "source": [
    "x = [1, 2, 3, 4, 5]\n",
    "y = np.random.rand(5)\n",
    "plt.bar(x,y)\n",
    "plt.show()"
   ]
  },
  {
   "cell_type": "markdown",
   "id": "1b248fc8-d4ed-46af-ac67-04322fe71fa7",
   "metadata": {},
   "source": [
    "## 5. ヒストグラム\n",
    "\n",
    "plt.hist()を使用する。サンプルのデータはリスト、あるいはarrayで与える。"
   ]
  },
  {
   "cell_type": "code",
   "execution_count": null,
   "id": "10c82340-956b-44e0-9c21-342672769b38",
   "metadata": {},
   "outputs": [],
   "source": [
    "# 平均0、分散1の標準正規分布に従う乱数\n",
    "d = np.random.randn(100)\n",
    "plt.hist(d, bins=5);\n",
    "plt.show()"
   ]
  },
  {
   "cell_type": "code",
   "execution_count": null,
   "id": "db4cf829-ddbc-4fd0-8d4c-c015eff653d4",
   "metadata": {},
   "outputs": [],
   "source": [
    "d = np.random.randn(100)\n",
    "plt.hist(d, bins=20);  # binsの値を変えて実行\n",
    "plt.show()"
   ]
  },
  {
   "cell_type": "markdown",
   "id": "3e194884-733b-49ca-b0da-f4dbe68ba5a5",
   "metadata": {},
   "source": [
    "## 6. サッカー日本代表のデータをプロットする\n",
    "\n"
   ]
  },
  {
   "cell_type": "code",
   "execution_count": null,
   "id": "6d2056ff-75cd-4c22-b4b1-1d0d8217464f",
   "metadata": {},
   "outputs": [],
   "source": [
    "import pandas as pd\n",
    "df = pd.read_excel('data/日本サッカー代表2024.xlsx', index_col=0)\n",
    "df"
   ]
  },
  {
   "cell_type": "markdown",
   "id": "451e7bcc-ad44-469d-956e-eee856685718",
   "metadata": {},
   "source": [
    "### 生年月日でヒストグラムを作成"
   ]
  },
  {
   "cell_type": "code",
   "execution_count": null,
   "id": "239bdc6e-d0cc-4dcb-ad39-1d7d2fd06fc7",
   "metadata": {
    "scrolled": true
   },
   "outputs": [],
   "source": [
    "plt.hist(df['生年月日'], bins=20);\n",
    "plt.show()"
   ]
  },
  {
   "cell_type": "markdown",
   "id": "bf93ce46-878d-45e9-85ec-cae1ad6dbb03",
   "metadata": {},
   "source": [
    "### 出場合計のトップ10\n",
    "\n",
    "Seriesにはplot.bar()という便利な機能がある。"
   ]
  },
  {
   "cell_type": "code",
   "execution_count": null,
   "id": "8328bc80-7f39-4c74-87a3-ecb7b8d03921",
   "metadata": {},
   "outputs": [],
   "source": [
    "import japanize_matplotlib\n",
    "ser = df.sort_values(by='出場合計', ascending=False).head(10)['出場合計']\n",
    "ser.plot.bar()\n",
    "plt.show()"
   ]
  },
  {
   "cell_type": "markdown",
   "id": "5baac600-e1e9-4fd0-83df-60dc7f55d3b0",
   "metadata": {},
   "source": [
    "### 得点合計のトップ10"
   ]
  },
  {
   "cell_type": "code",
   "execution_count": null,
   "id": "b8c56217-7bc5-49f3-9b7c-d5d3464b42a9",
   "metadata": {},
   "outputs": [],
   "source": [
    "import japanize_matplotlib\n",
    "ser = df.sort_values(by='得点合計', ascending=False).head(10)['得点合計']\n",
    "ser.plot.bar()\n",
    "plt.show()"
   ]
  },
  {
   "cell_type": "code",
   "execution_count": null,
   "id": "eddef823-8bc6-4094-9d93-07fc345fffd8",
   "metadata": {},
   "outputs": [],
   "source": []
  }
 ],
 "metadata": {
  "kernelspec": {
   "display_name": "Python 3 (ipykernel)",
   "language": "python",
   "name": "python3"
  },
  "language_info": {
   "codemirror_mode": {
    "name": "ipython",
    "version": 3
   },
   "file_extension": ".py",
   "mimetype": "text/x-python",
   "name": "python",
   "nbconvert_exporter": "python",
   "pygments_lexer": "ipython3",
   "version": "3.13.2"
  }
 },
 "nbformat": 4,
 "nbformat_minor": 5
}
