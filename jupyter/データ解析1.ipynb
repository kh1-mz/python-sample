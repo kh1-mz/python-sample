{
 "cells": [
  {
   "cell_type": "markdown",
   "id": "05f49def-e75e-4582-91af-2795d466245a",
   "metadata": {},
   "source": [
    "# データ解析サンプル1\n",
    "\n",
    "## 1. データソースについて\n",
    "\n",
    "「令和５年における労働災害発生状況（確定）(23-16.xlsx）をもとに、データ解析を行う。\n",
    "\n",
    "ここでは、同Excelファイルの「都道府県、業種別死亡災害発生状況（令和５年）」のデータを対象する。\n",
    "\n",
    "## 2. 前処理\n",
    "\n",
    "### 前処理の必要性\n",
    "\n",
    "同Excelファイルは複数のシートに異なる対象のデータが保存され、さらに読者がそのまま読む上で分かりやすく工夫がされている。代表的なものを以下に示す。\n",
    "\n",
    "* 表紙ページがある\n",
    "* タイトル文字列や、データを取得した日など、表そのものの齟齬側の情報が記載されている\n",
    "* １つのシートに２つの表がある\n",
    "* 表の中に小計がある\n",
    "\n",
    "これらの表データ以外の情報は自動で認識することができないため、あらかじめ処理しやすい形式に自動、手動で変換しておく必要がある。これを前処理と呼ぶ。\n",
    "\n",
    "### どのような前処理をしたか\n",
    "\n",
    "前処理の内容を以下に示す。\n",
    "\n",
    "1. 元のExcelファイルのシート「都道府県、業種別死亡災害発生状況（令和５年）」を取り出す\n",
    "2. 不要な行、列を削除\n",
    "3. 小計、合計の欄を削除\n",
    "4. 小分類（製造、鉱業、建設、運輸、貨物、農林、他）ごとにシートを分割\n",
    "\n",
    "## 3. Excelファイルの読み込み\n"
   ]
  },
  {
   "cell_type": "code",
   "execution_count": null,
   "id": "8f546948-0701-44c6-b1e2-bff8b90f692e",
   "metadata": {},
   "outputs": [],
   "source": [
    "import numpy as np\n",
    "import pandas as pd\n",
    "\n",
    "EXCEL_FILE = 'data/都道府県、業種別死亡災害発生状況（令和５年）.xlsx'\n",
    "dfs = pd.read_excel(EXCEL_FILE, sheet_name=None, index_col=0)\n",
    "dfs.keys()"
   ]
  },
  {
   "cell_type": "markdown",
   "id": "03911701-f025-494a-a51f-0573842fb6c2",
   "metadata": {},
   "source": [
    "## 4.製造分野のDataFrameを取り出し"
   ]
  },
  {
   "cell_type": "code",
   "execution_count": null,
   "id": "7f31af30-2f17-4de6-bed0-e345ca7c8011",
   "metadata": {},
   "outputs": [],
   "source": [
    "df_prod = dfs['製造']\n",
    "df_prod"
   ]
  },
  {
   "cell_type": "markdown",
   "id": "ca9ca69b-b0ac-480c-8e38-00a713f4a22c",
   "metadata": {},
   "source": [
    "## 5. 県別の製造業死亡災害発生数を表示\n",
    "\n",
    "* `df.sum()`で合計値を計算\n",
    "* `axis=1`でカラム集計を指定（0ならインデックスで集計）"
   ]
  },
  {
   "cell_type": "code",
   "execution_count": null,
   "id": "916778f1-e2a5-4d82-9777-7747d39c9c63",
   "metadata": {},
   "outputs": [],
   "source": [
    "df_prod.sum(axis=1)"
   ]
  },
  {
   "cell_type": "markdown",
   "id": "c81ff89f-5969-4f14-9679-7a7716642393",
   "metadata": {},
   "source": [
    "## 6. ソートして上位と下位を表示\n",
    "\n",
    "* ソートは`df.sort_values()`を使う\n",
    "  * デフォルトで昇順（少ない方から多い方へ）\n",
    "  * `ascending=False`で降順\n",
    "* 先頭の取り出しは`df.head()`\n",
    "* 末尾の取り出しは`df.tail()`"
   ]
  },
  {
   "cell_type": "code",
   "execution_count": null,
   "id": "6aa8796d-8b45-438c-9dc3-c4eee4849a69",
   "metadata": {},
   "outputs": [],
   "source": [
    "# 県別の製造業死亡災害発生数のトップ5\n",
    "df_prod.sum(axis=1).sort_values(ascending=False).head(5)"
   ]
  },
  {
   "cell_type": "code",
   "execution_count": null,
   "id": "3d01073e-c478-40ef-b2b2-e69bf7cc9ab7",
   "metadata": {},
   "outputs": [],
   "source": [
    "# 県別の製造業死亡災害発生数のトップ5\n",
    "df_prod.sum(axis=1).sort_values(ascending=False).tail(5)"
   ]
  },
  {
   "cell_type": "markdown",
   "id": "c950e25e-174e-4b51-8eba-9411fbbc2a87",
   "metadata": {},
   "source": [
    "## 7. カラム（小分類）ごとの集計\n",
    "\n",
    "`df.sum(axis=0)`で集計する。"
   ]
  },
  {
   "cell_type": "code",
   "execution_count": null,
   "id": "b63a1807-b45c-410b-b320-c114b6a390cf",
   "metadata": {},
   "outputs": [],
   "source": [
    "# 小分類ごとの製造業死亡災害発生数\n",
    "df_prod.sum(axis=0)"
   ]
  },
  {
   "cell_type": "code",
   "execution_count": null,
   "id": "15474455-e958-4d7f-90bd-66af6f44f310",
   "metadata": {
    "scrolled": true
   },
   "outputs": [],
   "source": [
    "# さらにソートしてトップ5\n",
    "df_prod.sum(axis=0).sort_values(ascending=False).head(5)"
   ]
  },
  {
   "cell_type": "markdown",
   "id": "3add0707-d37e-4f87-857b-aaf25c375db8",
   "metadata": {},
   "source": [
    "## 8. 全体を集計する\n",
    "\n",
    "DataFrame全体（製造業の死亡災害発生数）の合計値を出す。"
   ]
  },
  {
   "cell_type": "code",
   "execution_count": null,
   "id": "6e66163c-b82b-439d-9166-eafacb9d489b",
   "metadata": {},
   "outputs": [],
   "source": [
    "# 製造業の死亡災害発生数\n",
    "print(df_prod.sum().sum())   # axis=0は省略\n",
    "print(df_prod.values.sum())  # こういう書き方もある"
   ]
  },
  {
   "cell_type": "markdown",
   "id": "f3051f80-451d-4d6a-b068-cc5451bb30c5",
   "metadata": {},
   "source": [
    "全シート（全分類）の合計値を出す。"
   ]
  },
  {
   "cell_type": "code",
   "execution_count": null,
   "id": "ca9c37d8-87f4-4df2-a683-04f06629932f",
   "metadata": {},
   "outputs": [],
   "source": [
    "# 死亡災害発生数の合計\n",
    "total = np.int64(0)  # 単に0を代入してもいい\n",
    "for key, df in dfs.items():\n",
    "    sub_total = df.sum().sum()\n",
    "    print(key, sub_total)  # 分類ごとの小計を表示\n",
    "    total += sub_total\n",
    "\n",
    "print('合計', total)"
   ]
  },
  {
   "cell_type": "code",
   "execution_count": null,
   "id": "a296f1b9-64fd-474c-94a8-5520b7d163b0",
   "metadata": {},
   "outputs": [],
   "source": []
  }
 ],
 "metadata": {
  "kernelspec": {
   "display_name": "Python 3 (ipykernel)",
   "language": "python",
   "name": "python3"
  },
  "language_info": {
   "codemirror_mode": {
    "name": "ipython",
    "version": 3
   },
   "file_extension": ".py",
   "mimetype": "text/x-python",
   "name": "python",
   "nbconvert_exporter": "python",
   "pygments_lexer": "ipython3",
   "version": "3.13.2"
  }
 },
 "nbformat": 4,
 "nbformat_minor": 5
}
