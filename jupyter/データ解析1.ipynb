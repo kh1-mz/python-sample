{
 "cells": [
  {
   "cell_type": "markdown",
   "id": "05f49def-e75e-4582-91af-2795d466245a",
   "metadata": {},
   "source": [
    "# データ解析サンプル1\n",
    "\n",
    "## 1. データソースについて\n",
    "\n",
    "「令和５年における労働災害発生状況（確定）(23-16.xlsx）をもとに、データ解析を行う。\n",
    "\n",
    "ここでは、同Excelファイルの「都道府県、業種別死亡災害発生状況（令和５年）」のデータを対象する。\n",
    "\n",
    "## 2. 前処理\n",
    "\n",
    "### 前処理の必要性\n",
    "\n",
    "同Excelファイルは複数のシートに異なる対象のデータが保存され、さらに読者がそのまま読む上で分かりやすく工夫がされている。代表的なものを以下に示す。\n",
    "\n",
    "* 表紙ページがある\n",
    "* タイトル文字列や、データを取得した日など、表そのものの齟齬側の情報が記載されている\n",
    "* １つのシートに２つの表がある\n",
    "* 表の中に小計がある\n",
    "\n",
    "これらの表データ以外の情報は自動で認識することができないため、あらかじめ処理しやすい形式に自動、手動で変換しておく必要がある。これを前処理と呼ぶ。\n",
    "\n",
    "### どのような前処理をしたか\n",
    "\n",
    "前処理の内容を以下に示す。\n",
    "\n",
    "1. 元のExcelファイルのシート「都道府県、業種別死亡災害発生状況（令和５年）」を取り出す\n",
    "2. 不要な行、列を削除\n",
    "3. 小計、合計の欄を削除\n",
    "4. 小分類（製造、鉱業、建設、運輸、貨物、農林、他）ごとにシートを分割\n",
    "\n",
    "## 3. Excelファイルの読み込み"
   ]
  },
  {
   "cell_type": "code",
   "execution_count": null,
   "id": "8026f671-334f-4feb-bf2d-60a70336d388",
   "metadata": {},
   "outputs": [],
   "source": [
    "import numpy as np\n",
    "import pandas as pd\n",
    "import matplotlib.pyplot as plt\n",
    "import japanize_matplotlib"
   ]
  },
  {
   "cell_type": "code",
   "execution_count": null,
   "id": "8f546948-0701-44c6-b1e2-bff8b90f692e",
   "metadata": {},
   "outputs": [],
   "source": [
    "EXCEL_FILE = 'data/都道府県、業種別死亡災害発生状況（令和５年）.xlsx'\n",
    "dfs = pd.read_excel(EXCEL_FILE, sheet_name=None, index_col=0)\n",
    "dfs.keys()"
   ]
  },
  {
   "cell_type": "markdown",
   "id": "03911701-f025-494a-a51f-0573842fb6c2",
   "metadata": {},
   "source": [
    "## 4. 製造業のデータを分析する\n",
    "\n",
    "### 4-1. 製造業のDataFrameを取り出す"
   ]
  },
  {
   "cell_type": "code",
   "execution_count": null,
   "id": "7f31af30-2f17-4de6-bed0-e345ca7c8011",
   "metadata": {},
   "outputs": [],
   "source": [
    "df_prod = dfs['製造']\n",
    "df_prod"
   ]
  },
  {
   "cell_type": "markdown",
   "id": "1621f0d8-73c0-4882-840c-3de65bd3beb8",
   "metadata": {},
   "source": [
    "DataFrameのカラムごとの要約統計量を表示するメソッド、describe()を呼び出してみる。<br>\n",
    "表示されるものは以下の通り。\n",
    "\n",
    "* **count**: 欠損値NaNではない要素の個数\n",
    "* **mean**: 算術平均\n",
    "* **std**: 標準偏差\n",
    "* **min**: 最小値\n",
    "* **25%**: 1/4分位数\n",
    "* **50%**: 中央値（median）\n",
    "* **75%**: /4分位数\n",
    "* **max**: 最大値\n",
    "\n",
    "参考：**pandas.DataFrame.describe**<br>\n",
    "https://pandas.pydata.org/docs/reference/api/pandas.DataFrame.describe.html"
   ]
  },
  {
   "cell_type": "code",
   "execution_count": null,
   "id": "2116e191-a943-4c2d-9bc3-54dde8bf0b47",
   "metadata": {},
   "outputs": [],
   "source": [
    "df_prod.describe()"
   ]
  },
  {
   "cell_type": "markdown",
   "id": "862e156c-2f6e-4049-9740-e2ad26b20b27",
   "metadata": {},
   "source": [
    "### 4-2. 小分類ごと死亡災害発生数を表示\n",
    "\n",
    "* `df.sum()`で合計値を計算\n",
    "* `axis=0`でインデックス集計を指定\n",
    "* `Series.sort_values()`でソート\n",
    "  * `ascending=True`で昇順（デフォルト）、`False`で降順"
   ]
  },
  {
   "cell_type": "code",
   "execution_count": null,
   "id": "6e2c217e-ee32-47da-b6a3-250755a9e74e",
   "metadata": {},
   "outputs": [],
   "source": [
    "ser = df_prod.sum(axis=0).sort_values(ascending=False)\n",
    "ser.plot.bar()\n",
    "plt.show()"
   ]
  },
  {
   "cell_type": "markdown",
   "id": "9a7024b6-235a-4eeb-bdf8-b1a0d031c73f",
   "metadata": {},
   "source": [
    "### 4-3. 食料関係の県別死亡事故発生数のヒストグラム"
   ]
  },
  {
   "cell_type": "code",
   "execution_count": null,
   "id": "dd1eca77-1dae-4998-9b8a-443e3afc8e16",
   "metadata": {
    "scrolled": true
   },
   "outputs": [],
   "source": [
    "plt.hist(df_prod['食料'])\n",
    "plt.show()"
   ]
  },
  {
   "cell_type": "markdown",
   "id": "82d23b2b-0324-4fb2-957e-6dd0d21b4cd0",
   "metadata": {},
   "source": [
    "食料関係の製造業での死亡事故、大体の県は0件、あっても1件、稀に2,3件。\n",
    "\n",
    "1件以上の都道府県が気になるので、表示してみる。"
   ]
  },
  {
   "cell_type": "code",
   "execution_count": null,
   "id": "5c0c9ac8-ca28-4dd5-af78-76cd856342dd",
   "metadata": {},
   "outputs": [],
   "source": [
    "ser = df_prod[(df_prod['食料'] >= 1)]['食料'].sort_values(ascending=False)\n",
    "ser.plot.bar()\n",
    "plt.show()"
   ]
  },
  {
   "cell_type": "markdown",
   "id": "ca9ca69b-b0ac-480c-8e38-00a713f4a22c",
   "metadata": {},
   "source": [
    "北海道、鹿児島が最多で3件ということがわかる。食品加工業が盛んということか。\n",
    "\n",
    "### 4-4. 都道府県別の製造業死亡災害発生数を表示\n",
    "\n",
    "* `df.sum()`で合計値を計算\n",
    "* `axis=1`でカラム集計を指定\n",
    "\n",
    "県別の件数でヒストグラムを表示する、"
   ]
  },
  {
   "cell_type": "code",
   "execution_count": null,
   "id": "344632c3-d729-4f70-8308-a1373d0fb61c",
   "metadata": {},
   "outputs": [],
   "source": [
    "ser = df_prod.sum(axis=1)\n",
    "plt.hist(ser)\n",
    "plt.show()"
   ]
  },
  {
   "cell_type": "markdown",
   "id": "0d159289-f4fd-4224-8004-d04864d44493",
   "metadata": {},
   "source": [
    "概ね0〜6件だが、8, 9件の死亡事故が発生している県がある。\n",
    "\n",
    "どこの県か調べる。"
   ]
  },
  {
   "cell_type": "code",
   "execution_count": null,
   "id": "916778f1-e2a5-4d82-9777-7747d39c9c63",
   "metadata": {
    "scrolled": true
   },
   "outputs": [],
   "source": [
    "ser = df_prod.sum(axis=1).sort_values(ascending=False).head(10)\n",
    "ser.plot.bar()\n",
    "plt.show()"
   ]
  },
  {
   "cell_type": "markdown",
   "id": "3cda5938-4e7e-4f46-9e6d-bbdd7b624adc",
   "metadata": {},
   "source": [
    "最多だった福岡県の、製造業における死亡事故数を調べる。"
   ]
  },
  {
   "cell_type": "code",
   "execution_count": null,
   "id": "212cb442-5e4c-452b-85cb-d98106387f0f",
   "metadata": {},
   "outputs": [],
   "source": [
    "ser = df_prod.loc['福岡'].sort_values(ascending=False)\n",
    "ser = ser[ser > 0]\n",
    "ser.plot.bar()\n",
    "plt.show()"
   ]
  },
  {
   "cell_type": "markdown",
   "id": "3add0707-d37e-4f87-857b-aaf25c375db8",
   "metadata": {},
   "source": [
    "## 5. 全体を集計する\n",
    "\n",
    "まずDataFrame（製造業の死亡災害発生数）の合計値を出す。"
   ]
  },
  {
   "cell_type": "code",
   "execution_count": null,
   "id": "6e66163c-b82b-439d-9166-eafacb9d489b",
   "metadata": {},
   "outputs": [],
   "source": [
    "# 製造業の死亡災害発生数\n",
    "print(df_prod.sum().sum())   # axis=0は省略\n",
    "print(df_prod.values.sum())  # こういう書き方もある"
   ]
  },
  {
   "cell_type": "markdown",
   "id": "f3051f80-451d-4d6a-b068-cc5451bb30c5",
   "metadata": {},
   "source": [
    "全シート（全分類）の合計値を出す。"
   ]
  },
  {
   "cell_type": "code",
   "execution_count": null,
   "id": "ca9c37d8-87f4-4df2-a683-04f06629932f",
   "metadata": {},
   "outputs": [],
   "source": [
    "# 死亡災害発生数の合計\n",
    "total = np.int64(0)  # 単に0を代入してもいい\n",
    "for key, df in dfs.items():\n",
    "    sub_total = df.sum().sum()\n",
    "    print(key, sub_total)  # 分類ごとの小計を表示\n",
    "    total += sub_total\n",
    "\n",
    "print('合計', total)"
   ]
  },
  {
   "cell_type": "markdown",
   "id": "147da4ca-8ce9-48a2-9f45-adff7b13fe8b",
   "metadata": {},
   "source": [
    "上記のforループは、以下のように内包表記にすることができる。"
   ]
  },
  {
   "cell_type": "code",
   "execution_count": null,
   "id": "a296f1b9-64fd-474c-94a8-5520b7d163b0",
   "metadata": {},
   "outputs": [],
   "source": [
    "import matplotlib.pyplot as plt\n",
    "import japanize_matplotlib\n",
    "\n",
    "# 内包表記を使う\n",
    "ser = pd.Series({key: int(df.sum().sum()) for key, df in dfs.items()})\n",
    "ser = ser.sort_values(ascending=False)\n",
    "print(ser)\n",
    "print(f'合計 {ser.sum()}')\n",
    "\n",
    "# ついでにグラフ化\n",
    "ser.plot.bar()\n",
    "plt.show()"
   ]
  },
  {
   "cell_type": "markdown",
   "id": "5789cfe7-19b6-416d-b781-b14c76362082",
   "metadata": {},
   "source": [
    "この中で建設業が多いのが気になる。\n",
    "\n",
    "小分類で内訳を見る。"
   ]
  },
  {
   "cell_type": "code",
   "execution_count": null,
   "id": "5498c7fc-83a1-4f56-9c8b-207a85b5b08e",
   "metadata": {},
   "outputs": [],
   "source": [
    "df_const = dfs['建設']\n",
    "ser = df_const.sum(axis=0).sort_values(ascending=False)\n",
    "ser.plot.bar()\n",
    "plt.show()"
   ]
  },
  {
   "cell_type": "markdown",
   "id": "0257d1a9-436e-4b78-a9ec-3c529aea8ef5",
   "metadata": {},
   "source": [
    "どこの都道府県が多い？"
   ]
  },
  {
   "cell_type": "code",
   "execution_count": null,
   "id": "25901b73-ff36-451e-be3a-5ae20a637ac3",
   "metadata": {},
   "outputs": [],
   "source": [
    "ser = df_const.sum(axis=1).sort_values(ascending=False).head(10)\n",
    "ser.plot.bar()\n",
    "plt.show()"
   ]
  },
  {
   "cell_type": "code",
   "execution_count": null,
   "id": "32656dd0-ab1f-4acc-aa11-c38c14fefea4",
   "metadata": {},
   "outputs": [],
   "source": []
  }
 ],
 "metadata": {
  "kernelspec": {
   "display_name": "Python 3 (ipykernel)",
   "language": "python",
   "name": "python3"
  },
  "language_info": {
   "codemirror_mode": {
    "name": "ipython",
    "version": 3
   },
   "file_extension": ".py",
   "mimetype": "text/x-python",
   "name": "python",
   "nbconvert_exporter": "python",
   "pygments_lexer": "ipython3",
   "version": "3.13.2"
  }
 },
 "nbformat": 4,
 "nbformat_minor": 5
}
