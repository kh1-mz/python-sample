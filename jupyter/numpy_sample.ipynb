{
 "cells": [
  {
   "cell_type": "markdown",
   "id": "a3cf5c48-3334-4ad0-bd68-69d4b82ea3ad",
   "metadata": {},
   "source": [
    "# NumPyサンプルプログラム"
   ]
  },
  {
   "cell_type": "code",
   "execution_count": 1,
   "id": "d0feace9-91c2-4d08-b25c-c36b75f52949",
   "metadata": {},
   "outputs": [],
   "source": [
    "import numpy as np"
   ]
  },
  {
   "cell_type": "code",
   "execution_count": 2,
   "id": "ebb9bbeb-7445-4f5b-be2d-f62021ac99aa",
   "metadata": {},
   "outputs": [
    {
     "name": "stdout",
     "output_type": "stream",
     "text": [
      "[[0 1 2]\n",
      " [3 4 5]\n",
      " [6 7 8]]\n"
     ]
    }
   ],
   "source": [
    "a = np.arange(9).reshape(3,3)\n",
    "print(a)"
   ]
  },
  {
   "cell_type": "markdown",
   "id": "71b85e99-4940-4b11-9128-e959b5c8856e",
   "metadata": {},
   "source": [
    "ここで変数aの3x3の行列の要素に、それぞれ1を加える。"
   ]
  },
  {
   "cell_type": "code",
   "execution_count": 3,
   "id": "12d6e3d5-7f01-492e-9ac6-af559d579bcb",
   "metadata": {},
   "outputs": [
    {
     "name": "stdout",
     "output_type": "stream",
     "text": [
      "[[1 2 3]\n",
      " [4 5 6]\n",
      " [7 8 9]]\n"
     ]
    }
   ],
   "source": [
    "b = a + 1\n",
    "print(b)"
   ]
  },
  {
   "cell_type": "markdown",
   "id": "9d81fcc0-cac2-4a51-b7c7-463bf43ee5d2",
   "metadata": {},
   "source": [
    "以降、行列の演算を実行する。"
   ]
  },
  {
   "cell_type": "code",
   "execution_count": 4,
   "id": "60feef4e-fcea-45f9-a37a-987ab1780175",
   "metadata": {},
   "outputs": [
    {
     "data": {
      "text/plain": [
       "array([[-1, -1, -1],\n",
       "       [-1, -1, -1],\n",
       "       [-1, -1, -1]])"
      ]
     },
     "execution_count": 4,
     "metadata": {},
     "output_type": "execute_result"
    }
   ],
   "source": [
    "a - b"
   ]
  },
  {
   "cell_type": "code",
   "execution_count": 5,
   "id": "eeb2c8f8-f21c-4090-bfa2-211240951301",
   "metadata": {},
   "outputs": [
    {
     "data": {
      "text/plain": [
       "array([[ 1,  3,  5],\n",
       "       [ 7,  9, 11],\n",
       "       [13, 15, 17]])"
      ]
     },
     "execution_count": 5,
     "metadata": {},
     "output_type": "execute_result"
    }
   ],
   "source": [
    "a + b"
   ]
  },
  {
   "cell_type": "code",
   "execution_count": 6,
   "id": "62aa11e4-32e1-4ca6-ae27-d904673310da",
   "metadata": {},
   "outputs": [
    {
     "data": {
      "text/plain": [
       "array([[ 0,  2,  6],\n",
       "       [12, 20, 30],\n",
       "       [42, 56, 72]])"
      ]
     },
     "execution_count": 6,
     "metadata": {},
     "output_type": "execute_result"
    }
   ],
   "source": [
    "a * b"
   ]
  },
  {
   "cell_type": "code",
   "execution_count": 7,
   "id": "8977f872-aa62-4645-88f0-90419ae1460a",
   "metadata": {},
   "outputs": [
    {
     "data": {
      "text/plain": [
       "array([[0.        , 0.5       , 0.66666667],\n",
       "       [0.75      , 0.8       , 0.83333333],\n",
       "       [0.85714286, 0.875     , 0.88888889]])"
      ]
     },
     "execution_count": 7,
     "metadata": {},
     "output_type": "execute_result"
    }
   ],
   "source": [
    "a / b"
   ]
  },
  {
   "cell_type": "code",
   "execution_count": 8,
   "id": "8bf80815-8f7b-4e4e-9ca4-d0353e07b0d4",
   "metadata": {},
   "outputs": [
    {
     "data": {
      "text/plain": [
       "array([[ 1,  5,  9],\n",
       "       [ 5,  9, 13],\n",
       "       [ 9, 13, 17]])"
      ]
     },
     "execution_count": 8,
     "metadata": {},
     "output_type": "execute_result"
    }
   ],
   "source": [
    "a + b.T"
   ]
  },
  {
   "cell_type": "code",
   "execution_count": null,
   "id": "829ce271-c3a3-45f6-a339-6d3e4adb9069",
   "metadata": {},
   "outputs": [],
   "source": []
  }
 ],
 "metadata": {
  "kernelspec": {
   "display_name": "Python 3 (ipykernel)",
   "language": "python",
   "name": "python3"
  },
  "language_info": {
   "codemirror_mode": {
    "name": "ipython",
    "version": 3
   },
   "file_extension": ".py",
   "mimetype": "text/x-python",
   "name": "python",
   "nbconvert_exporter": "python",
   "pygments_lexer": "ipython3",
   "version": "3.13.2"
  }
 },
 "nbformat": 4,
 "nbformat_minor": 5
}
