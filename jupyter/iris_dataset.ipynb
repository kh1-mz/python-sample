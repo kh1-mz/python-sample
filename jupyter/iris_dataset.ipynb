{
 "cells": [
  {
   "cell_type": "markdown",
   "id": "242020bf-ba54-4406-a840-99d0b4d09f2b",
   "metadata": {},
   "source": [
    "# irisデータセット\n",
    "\n",
    "## 1. 特徴量ファイルを見る\n",
    "\n",
    "scikit-learnで提供されているirisデータセットの特徴量を見てみる。\n",
    "\n",
    "pip installでscikit-learnをインストールすると、以下にirisデータセットの特徴量csvファイルがコピーされる。\n",
    "\n",
    "```\n",
    "~/AppData/local/Programs/Python/Python313/Lib/sitepackages/sklearn/datasets/data/iris.csv\n",
    "```\n",
    "\n",
    "これを手動でdataディレクトリ下にコピーする。\n",
    "\n",
    "pandasで読み込み、上位５行と下位５行を表示すると以下のようになる。"
   ]
  },
  {
   "cell_type": "code",
   "execution_count": null,
   "id": "e3419ca4-ed7c-4fc4-903b-a09628942731",
   "metadata": {},
   "outputs": [],
   "source": [
    "import pandas as pd\n",
    "iris = pd.read_csv('data/iris.csv', header=None)  # ヘッダはカラムのラベルでないとする\n",
    "print(iris.head(5))\n",
    "print()\n",
    "print(iris.tail(5))"
   ]
  },
  {
   "cell_type": "markdown",
   "id": "29a62958-72bb-4134-8212-1b3dd2dcad10",
   "metadata": {},
   "source": [
    "* 先頭行はカラムのラベルではなく、２行目以降のデータ内容を示している\n",
    "* `setosa`、`versicolor`、`virginica`はアヤメ属の種類であり、データセットはこの３種のデータを含む\n",
    "* `150`は特徴量のデータ数を示す\n",
    "* データの種類は`4`つ（これは別途決まっていること）\n",
    "    * がくの長さ（sepal length [cm]）\n",
    "    * がくの幅（sepal width [cm]）\n",
    "    * 花弁の長さ（petal length [cm]）\n",
    "    * 花弁の幅（petal width [cm]）\n",
    "* カラム4は、アヤメ属３種（0,1,2）のいずれかを示す教師データ\n",
    "\n",
    "irisデータセットは、３つのアヤメを機械学習で判定するために使用する。\n",
    "\n",
    "## 2. irisデータセットを読み込む\n",
    "\n",
    "scikit_learnには、irisデータセットを読み込むAPIがある。\n",
    "\n",
    "targetの値はそれぞれアヤメの種類に対応している。\n",
    "\n",
    "* `0`: setosa\n",
    "* `1`: versicolor\n",
    "* `2`: virginica"
   ]
  },
  {
   "cell_type": "code",
   "execution_count": null,
   "id": "40fb82f3-0bc3-43a3-8acf-1c89fb93621b",
   "metadata": {},
   "outputs": [],
   "source": [
    "import numpy as np\n",
    "from sklearn.datasets import load_iris\n",
    "\n",
    "iris = load_iris()\n",
    "df = pd.DataFrame(iris.data, columns=iris.feature_names)\n",
    "\n",
    "name_map = {0: 'setosa', 1: 'versicolor', 2: 'verinica'}\n",
    "df['target'] = [name_map[n] for n in iris.target]\n",
    "# df['target'] = iris.target\n",
    "df"
   ]
  },
  {
   "cell_type": "markdown",
   "id": "00760658-608a-4595-b43f-e09bf6eac57c",
   "metadata": {},
   "source": [
    "describe()メソッドで、DataFrameの大まかな傾向を表示することができる。"
   ]
  },
  {
   "cell_type": "code",
   "execution_count": null,
   "id": "b621b370-5dd7-46b6-8747-911dd0a078fb",
   "metadata": {},
   "outputs": [],
   "source": [
    "df.describe()"
   ]
  },
  {
   "cell_type": "markdown",
   "id": "759c93b2-0a9f-47e0-bc26-ca570cc43552",
   "metadata": {},
   "source": [
    "データセットの`DESCR`には詳細なドキュメントが文字列で格納されている。"
   ]
  },
  {
   "cell_type": "code",
   "execution_count": null,
   "id": "42289c26-39aa-43e6-a887-b4b135065804",
   "metadata": {},
   "outputs": [],
   "source": [
    "print(iris.DESCR)"
   ]
  },
  {
   "cell_type": "markdown",
   "id": "b8a56e59-4c2b-4c5c-a72a-b02325b1df9b",
   "metadata": {},
   "source": [
    "seabornパッケージを使うと、特徴量の散布図を表示することができる。"
   ]
  },
  {
   "cell_type": "code",
   "execution_count": null,
   "id": "495b691f-b96e-4cee-8c0b-54fcf0bf5f58",
   "metadata": {},
   "outputs": [],
   "source": [
    "import seaborn as sns\n",
    "\n",
    "sns.pairplot(df, hue=\"target\")"
   ]
  },
  {
   "cell_type": "markdown",
   "id": "87a4968f-946c-45a0-99ec-777eae898ea1",
   "metadata": {},
   "source": [
    "特徴量データを、学習データと評価データに分割する（デフォルトで7:3の割合）。"
   ]
  },
  {
   "cell_type": "code",
   "execution_count": null,
   "id": "43042834-8b2b-48ad-98f7-13f62cda3eab",
   "metadata": {},
   "outputs": [],
   "source": [
    "from sklearn.model_selection import train_test_split\n",
    "\n",
    "X_train, X_test, y_train, y_test = train_test_split(df, iris.target)"
   ]
  },
  {
   "cell_type": "markdown",
   "id": "ee64ed84-c0ae-47b7-a84e-ce4fe3464f6d",
   "metadata": {},
   "source": [
    "取り出した変数の値は、それぞれ以下の通り。\n",
    "\n",
    "* **X_train**: 学習用の特徴量データ\n",
    "* **y_train**: 学習用のラベル（教師データ）\n",
    "* **X_test**: 評価用の特徴量データ\n",
    "* **y_test**: 評価用のラベル（教示データ）\n",
    "\n",
    "それぞれの中を見てみる。\n",
    "\n",
    "まずは学習用データ。"
   ]
  },
  {
   "cell_type": "code",
   "execution_count": null,
   "id": "8c5d770a-9716-4527-bfee-9aef09dd61ec",
   "metadata": {},
   "outputs": [],
   "source": [
    "# 学習用の特徴量データ\n",
    "X_train"
   ]
  },
  {
   "cell_type": "code",
   "execution_count": null,
   "id": "c1ec82cf-73cf-4927-b5e9-bcd79a0fa0c8",
   "metadata": {},
   "outputs": [],
   "source": [
    "# 学習用のラベル（教師データ）\n",
    "y_train"
   ]
  },
  {
   "cell_type": "markdown",
   "id": "c28914dc-8a57-440d-8fb9-7072a8e433f1",
   "metadata": {},
   "source": [
    "次に評価用データ。"
   ]
  },
  {
   "cell_type": "code",
   "execution_count": null,
   "id": "3311aeed-41e3-4c3e-beef-61b2bd1068c6",
   "metadata": {},
   "outputs": [],
   "source": [
    "# 評価用の特徴量データ\n",
    "X_test"
   ]
  },
  {
   "cell_type": "code",
   "execution_count": null,
   "id": "9c0bbc1f-d901-4e55-833e-3ed40008185d",
   "metadata": {},
   "outputs": [],
   "source": [
    "# 評価用のラベル（教師データ）\n",
    "y_test"
   ]
  },
  {
   "cell_type": "code",
   "execution_count": null,
   "id": "22fa7788-770f-4324-9a52-b64688fb5639",
   "metadata": {},
   "outputs": [],
   "source": []
  }
 ],
 "metadata": {
  "kernelspec": {
   "display_name": "Python 3 (ipykernel)",
   "language": "python",
   "name": "python3"
  },
  "language_info": {
   "codemirror_mode": {
    "name": "ipython",
    "version": 3
   },
   "file_extension": ".py",
   "mimetype": "text/x-python",
   "name": "python",
   "nbconvert_exporter": "python",
   "pygments_lexer": "ipython3",
   "version": "3.13.2"
  }
 },
 "nbformat": 4,
 "nbformat_minor": 5
}
