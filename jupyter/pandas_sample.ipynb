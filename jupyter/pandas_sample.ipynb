{
 "cells": [
  {
   "cell_type": "markdown",
   "id": "d5c01937-f9d5-4557-ae08-1a1845b418a2",
   "metadata": {},
   "source": [
    "# pandas\n",
    "\n",
    "以下のパッケージをインストールしておくこと。\n",
    "\n",
    "* pandas\n",
    "* openpyxl\n",
    "* numpu\n",
    "\n",
    "## 1. Series（シリーズ）\n",
    "\n",
    "* pandasで使用される１次元データ\n",
    "* インデックスを使ってデータに名前をつけられる\n",
    "\n",
    "### リストでSeriesを生成\n"
   ]
  },
  {
   "cell_type": "code",
   "execution_count": null,
   "id": "e273a89f-1a34-4e5b-9f26-2e66875ddef5",
   "metadata": {},
   "outputs": [],
   "source": [
    "import pandas as pd\n",
    "\n",
    "pd.Series([0,1,2])"
   ]
  },
  {
   "cell_type": "markdown",
   "id": "7e8015b4-0a29-4393-b4d5-ae9b1f7d75d3",
   "metadata": {},
   "source": [
    "### NumPyの乱数でSeriesを生成"
   ]
  },
  {
   "cell_type": "code",
   "execution_count": null,
   "id": "c1662dbd-ff28-42fd-84f6-4fdba4d73ba4",
   "metadata": {},
   "outputs": [],
   "source": [
    "import numpy as np\n",
    "\n",
    "ary = np.random.rand(3)\n",
    "ary"
   ]
  },
  {
   "cell_type": "code",
   "execution_count": null,
   "id": "1ca253a7-b824-4e26-8fa4-56a2771e2b3d",
   "metadata": {},
   "outputs": [],
   "source": [
    "pd.Series(ary)"
   ]
  },
  {
   "cell_type": "markdown",
   "id": "99e4223c-3e33-41ff-9e90-4b9055f168d6",
   "metadata": {},
   "source": [
    "### 辞書を使ってインデックスを指定"
   ]
  },
  {
   "cell_type": "code",
   "execution_count": null,
   "id": "edf0721e-5fff-4285-bd87-1a983f43ef40",
   "metadata": {},
   "outputs": [],
   "source": [
    "pd.Series({'zero':'boo', 1.0:'foo', 2:'woo'})"
   ]
  },
  {
   "cell_type": "markdown",
   "id": "16ed7f46-47ea-44c4-b4d2-66077766646b",
   "metadata": {},
   "source": [
    "## 2. DataFrame（データフレーム）\n",
    "\n",
    "* pandasで使用される2次元データ\n",
    "* 機械学習、統計処理で使用する場合は、主にDataFrameの操作になる\n",
    "\n",
    "### リストによるDataFrameの生成"
   ]
  },
  {
   "cell_type": "code",
   "execution_count": null,
   "id": "65f1d757-6e14-4aa2-bb50-af55d76d219a",
   "metadata": {},
   "outputs": [],
   "source": [
    "pd.DataFrame([[0,1,2],[3,4,5],[6,7,8],[9,10,11]])"
   ]
  },
  {
   "cell_type": "code",
   "execution_count": null,
   "id": "009ef211-66cc-4e6a-a4bc-0ca222b88b11",
   "metadata": {},
   "outputs": [],
   "source": [
    "pd.DataFrame(np.arange(12).reshape(4, 3))"
   ]
  },
  {
   "cell_type": "markdown",
   "id": "9af0cfbf-7976-4b19-869d-60bb77f7cb67",
   "metadata": {},
   "source": [
    "### インデックスとカラムにラベルを設定"
   ]
  },
  {
   "cell_type": "code",
   "execution_count": null,
   "id": "fb72ff7f-4a21-4bab-887b-6422a782dcca",
   "metadata": {},
   "outputs": [],
   "source": [
    "pd.DataFrame([[0,1,2],[3,4,5],[6,7,8],[9,10,11]],\n",
    "             index=['A','B','C','D'], \n",
    "             columns=['c1','c2','c3'])"
   ]
  },
  {
   "cell_type": "markdown",
   "id": "8f90e000-5d55-4094-92cd-2bfef8113263",
   "metadata": {},
   "source": [
    "### 多次元配列からデータフレーム生成\n",
    "\n",
    "ますは多次元配列を作成。"
   ]
  },
  {
   "cell_type": "code",
   "execution_count": null,
   "id": "f5a42b19-69a4-42c9-87a9-f4e918a6cff5",
   "metadata": {},
   "outputs": [],
   "source": [
    "a = np.random.rand(12).reshape(4, 3)\n",
    "a"
   ]
  },
  {
   "cell_type": "markdown",
   "id": "1f4194e8-e22f-484a-a09b-14694b2390af",
   "metadata": {},
   "source": [
    "カラムにラベルを追加してデータフレームを作成。"
   ]
  },
  {
   "cell_type": "code",
   "execution_count": null,
   "id": "5e0182e9-6765-4402-8116-94a335cf79e1",
   "metadata": {},
   "outputs": [],
   "source": [
    "pd.DataFrame(a, columns=['c1', 'c2', 'c3'])"
   ]
  },
  {
   "cell_type": "code",
   "execution_count": null,
   "id": "532b06d7-1cdc-4b43-92d6-fce08bc6962f",
   "metadata": {},
   "outputs": [],
   "source": []
  },
  {
   "cell_type": "code",
   "execution_count": null,
   "id": "1ab426d4-1d01-4c26-93e5-13c08e623b7e",
   "metadata": {},
   "outputs": [],
   "source": []
  },
  {
   "cell_type": "code",
   "execution_count": null,
   "id": "b783aa91-3903-4f98-8499-8fbdbd20d3fb",
   "metadata": {},
   "outputs": [],
   "source": []
  },
  {
   "cell_type": "markdown",
   "id": "cbc94c29-06d5-4ea8-946c-53a3614837d9",
   "metadata": {},
   "source": [
    "### 辞書からデータフレームを作成"
   ]
  },
  {
   "cell_type": "code",
   "execution_count": null,
   "id": "179d62a9-1137-4645-942f-b5c12fc64132",
   "metadata": {},
   "outputs": [],
   "source": [
    "pd.DataFrame({'Initial':['B','F','W'], \\\n",
    "                  'Name':['boo', 'foo', 'woo']}, \\\n",
    "                 columns=['Name','Initial'])"
   ]
  },
  {
   "cell_type": "markdown",
   "id": "a18a60b4-9e38-49f7-a521-5ddb408d7875",
   "metadata": {},
   "source": [
    "## 3. CSVファイルからDataFrameを作成\n",
    "\n",
    "元データはこちら。<br>\n",
    "https://www.data.jma.go.jp/stats/etrn/view/annually_a.php?prec_no=46&block_no=0392&year=&month=&day=&view=\n",
    "\n",
    "値欄の説明は以下のページ。<br>\n",
    "https://www.data.jma.go.jp/stats/data/mdrr/man/remark.html\n",
    "\n",
    "* `///`：データがないもの\n",
    "* `]`：計測時の問題等で、その値以上（以下）であることが確実なもの"
   ]
  },
  {
   "cell_type": "code",
   "execution_count": null,
   "id": "bec8ed3e-a5b6-40ec-987e-09fa602aaaed",
   "metadata": {},
   "outputs": [],
   "source": [
    "df_miura = pd.read_csv('data/三浦の気象情報.csv',index_col=0)\n",
    "df_miura"
   ]
  },
  {
   "cell_type": "markdown",
   "id": "1145f5da-27d0-4b40-aa7c-a40bc6736713",
   "metadata": {},
   "source": [
    "上記のデータをpandasで処理する場合、通常以下のような前処理を行う必要がある。\n",
    "\n",
    "* `///`の要素はNumPyの`NaN`に置き換える\n",
    "* `]`が付加された値は文字列のため統計値として使用できなため、`NaN`か、なんらかの数値に置き換える\n",
    "\n",
    "## 4. Excelからデータフレームを作成\n",
    "\n",
    "元データはこちら。<br>\n",
    "Soccer DB Japan（ https://soccer-db.net/japan ）"
   ]
  },
  {
   "cell_type": "code",
   "execution_count": null,
   "id": "5250e275-fb1d-4e9c-8c98-8c375a62c47e",
   "metadata": {
    "scrolled": true
   },
   "outputs": [],
   "source": [
    "df = pd.read_excel('data/日本サッカー代表2024.xlsx', index_col=0)\n",
    "df"
   ]
  },
  {
   "cell_type": "markdown",
   "id": "bf7efbfb-0a6a-4d3e-aad1-2dfa8a0810e5",
   "metadata": {},
   "source": [
    "### 要素の取り出し\n",
    "\n",
    "#### カラム単位\n",
    "\n",
    "全選手の生年月日を取り出す。"
   ]
  },
  {
   "cell_type": "code",
   "execution_count": null,
   "id": "6d9b68e9-045c-4f87-ac46-c280a0ff96ca",
   "metadata": {},
   "outputs": [],
   "source": [
    "df['生年月日']"
   ]
  },
  {
   "cell_type": "markdown",
   "id": "9dc31219-e419-48d7-a86d-254d2e9af334",
   "metadata": {},
   "source": [
    "### インデックス単位\n",
    "\n",
    "伊東純也選手のデータを取り出す。"
   ]
  },
  {
   "cell_type": "code",
   "execution_count": null,
   "id": "91b7b355-dc88-4712-91ec-6467560ac062",
   "metadata": {},
   "outputs": [],
   "source": [
    "df.loc['伊東 純也']"
   ]
  },
  {
   "cell_type": "markdown",
   "id": "b2d98a59-b095-4356-9996-9c551daec61e",
   "metadata": {},
   "source": [
    "インデックスの範囲で指定することができる。"
   ]
  },
  {
   "cell_type": "code",
   "execution_count": null,
   "id": "3ee9ecc2-cc27-4c4f-b4eb-1176c4526ebb",
   "metadata": {},
   "outputs": [],
   "source": [
    "df[0:5]"
   ]
  },
  {
   "cell_type": "markdown",
   "id": "6bc42c41-f23f-4c69-8ece-cc3bd07f04b4",
   "metadata": {},
   "source": [
    "## ソートと先頭の取り出し\n",
    "\n",
    "* ソートは`sort_values()`を使う\n",
    "  * `by`でカラムを選んで、昇順/降順は`ascending`で指定\n",
    "* 先頭の取り出しは`head()`\n",
    "* 末尾の取り出しは`tail()`\n",
    "\n",
    "A出場回数のトップ5"
   ]
  },
  {
   "cell_type": "code",
   "execution_count": null,
   "id": "de158534-d4ee-428b-b698-7d28bf5965c7",
   "metadata": {
    "scrolled": true
   },
   "outputs": [],
   "source": [
    "df.sort_values(by='A出場', ascending=False).head(5)"
   ]
  },
  {
   "cell_type": "markdown",
   "id": "3f08c5ea-9759-49f3-adeb-85ce029a758a",
   "metadata": {},
   "source": [
    "A得点ランキングのトップ5"
   ]
  },
  {
   "cell_type": "code",
   "execution_count": null,
   "id": "b5344c4e-7bc7-4d01-b344-1feb0fad2b5d",
   "metadata": {
    "scrolled": true
   },
   "outputs": [],
   "source": [
    "df.sort_values(by='A得点', ascending=False).head(5)"
   ]
  },
  {
   "cell_type": "markdown",
   "id": "d5e275ce-0f20-4617-a3fc-a50845083fc7",
   "metadata": {},
   "source": [
    "NumPyの２次元配列のように、転置もできる。"
   ]
  },
  {
   "cell_type": "code",
   "execution_count": null,
   "id": "688dbe59-bfb1-49d1-a46d-b8418f916eb0",
   "metadata": {},
   "outputs": [],
   "source": [
    "df.T"
   ]
  },
  {
   "cell_type": "code",
   "execution_count": null,
   "id": "01ddb503-e8d7-4151-9ab3-fdd717d92431",
   "metadata": {},
   "outputs": [],
   "source": []
  }
 ],
 "metadata": {
  "kernelspec": {
   "display_name": "Python 3 (ipykernel)",
   "language": "python",
   "name": "python3"
  },
  "language_info": {
   "codemirror_mode": {
    "name": "ipython",
    "version": 3
   },
   "file_extension": ".py",
   "mimetype": "text/x-python",
   "name": "python",
   "nbconvert_exporter": "python",
   "pygments_lexer": "ipython3",
   "version": "3.13.2"
  }
 },
 "nbformat": 4,
 "nbformat_minor": 5
}
